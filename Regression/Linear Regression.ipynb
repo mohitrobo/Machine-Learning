{
 "cells": [
  {
   "cell_type": "markdown",
   "metadata": {},
   "source": [
    "<div style=\"text-align: right\"> <h2><b>Youtube:-</b> <a href=\"https://www.youtube.com/@mohit.mehlawat\">https://www.youtube.com/@mohit.mehlawat</a></h2></div>"
   ]
  },
  {
   "cell_type": "markdown",
   "metadata": {},
   "source": [
    "# Linear Regression Model (y=A+Bx)"
   ]
  },
  {
   "cell_type": "code",
   "execution_count": 1,
   "metadata": {},
   "outputs": [],
   "source": [
    "#Import the libraries\n",
    "import numpy as np\n",
    "import matplotlib.pyplot as plt\n",
    "from sympy import Symbol, latex"
   ]
  },
  {
   "cell_type": "markdown",
   "metadata": {},
   "source": [
    "<hr style=\"border:2px solid black\">"
   ]
  },
  {
   "cell_type": "code",
   "execution_count": 2,
   "metadata": {},
   "outputs": [],
   "source": [
    "#Function call to return the coefficients A and B\n",
    "def coefficients(s_x,s_y,s_xy,s_xx,n):\n",
    "    #Equation y=A+Bx\n",
    "    B=np.divide(n*s_xy-s_x*s_y,n*s_xx-s_x**2)\n",
    "    A=np.divide(s_y,n)-B*np.divide(s_x,n)\n",
    "    return A,B"
   ]
  },
  {
   "cell_type": "code",
   "execution_count": 3,
   "metadata": {},
   "outputs": [],
   "source": [
    "#Function call to return the linear regression equation\n",
    "def linear_equation(A,B):\n",
    "    return A+B*x"
   ]
  },
  {
   "cell_type": "markdown",
   "metadata": {},
   "source": [
    "<hr style=\"border:2px solid black\">"
   ]
  },
  {
   "cell_type": "code",
   "execution_count": 4,
   "metadata": {},
   "outputs": [
    {
     "name": "stdout",
     "output_type": "stream",
     "text": [
      "Enter the x(comma-separated values) values: 4,5,5,6,8,9,10,12,12,14\n",
      "Enter the y(comma-separated values) values: 6,8,5,9,15,13,15,16,19,22\n",
      "Yep those are the values!\n"
     ]
    }
   ],
   "source": [
    "#The code to get the user input for x-values and y-values\n",
    "while True:\n",
    "    try:\n",
    "        user_input_x = input('Enter the x(comma-separated values) values: ')\n",
    "        user_input_y = input('Enter the y(comma-separated values) values: ')\n",
    "        x_coordinates = np.array([int(item) for item in user_input_x.split(',')])\n",
    "        y_coordinates = np.array([int(item) for item in user_input_y.split(',')])\n",
    "        if len(x_coordinates) == len(y_coordinates):\n",
    "            pass\n",
    "        else:\n",
    "            print(\"The number of x values and y values do not match\")\n",
    "            continue #it again goes to the top of the code, i.e try\n",
    "    except:\n",
    "        print(\"Looks like you did not enter an integer!\")\n",
    "        continue #it again goes to the top of the code, i.e try\n",
    "    else:\n",
    "        print(\"Yep those are the values!\")\n",
    "        break"
   ]
  },
  {
   "cell_type": "code",
   "execution_count": 5,
   "metadata": {},
   "outputs": [],
   "source": [
    "#length of dataset\n",
    "n=len(x_coordinates)\n",
    "\n",
    "#Find the summation of x\n",
    "s_x=sum(x_coordinates)\n",
    "#Find the summation of y\n",
    "s_y=sum(y_coordinates)\n",
    "\n",
    "#Find the summation of the product of x*y\n",
    "s_xy=sum(x_coordinates*y_coordinates)\n",
    "\n",
    "#Find the summation of x^2\n",
    "s_xx=sum(x_coordinates*x_coordinates)\n",
    "#Find the summation of y^2\n",
    "s_yy=sum(y_coordinates*y_coordinates)"
   ]
  },
  {
   "cell_type": "code",
   "execution_count": 6,
   "metadata": {},
   "outputs": [],
   "source": [
    "#Get the coefficients\n",
    "A,B=coefficients(s_x,s_y,s_xy,s_xx,n)"
   ]
  },
  {
   "cell_type": "code",
   "execution_count": 7,
   "metadata": {},
   "outputs": [
    {
     "name": "stdout",
     "output_type": "stream",
     "text": [
      "-0.5179723502304157 1.566820276497696\n"
     ]
    }
   ],
   "source": [
    "print(A,B)"
   ]
  },
  {
   "cell_type": "code",
   "execution_count": 8,
   "metadata": {},
   "outputs": [],
   "source": [
    "x,y=Symbol('x'),Symbol('y')\n",
    "#call the function to get the equation\n",
    "equation=linear_equation(round(A,3),round(B,3))\n",
    "#equation"
   ]
  },
  {
   "cell_type": "code",
   "execution_count": 9,
   "metadata": {},
   "outputs": [
    {
     "data": {
      "image/png": "[encoded data removed]",
      "text/plain": [
       "<Figure size 432x288 with 1 Axes>"
      ]
     },
     "metadata": {
      "needs_background": "light"
     },
     "output_type": "display_data"
    }
   ],
   "source": [
    "#Retrive the equation of the Hyperbola\n",
    "latex_code = latex(equation)\n",
    "\n",
    "plt.text(0.5, 0.5, f'$y={latex_code}$', size=30)\n",
    "plt.axis('off')\n",
    "plt.show()"
   ]
  },
  {
   "cell_type": "markdown",
   "metadata": {},
   "source": [
    "<hr style=\"border:2px solid black\">"
   ]
  },
  {
   "cell_type": "markdown",
   "metadata": {},
   "source": [
    "<div style=\"text-align: left\"> <h1><b>If you liked the content, Kindly Support: </b></h1></div>\n",
    "<div style=\"text-align: left\"> <h2><b>Paypal:-</b> <a href=\"https://paypal.me/mohitmehlawat\">https://paypal.me/mohitmehlawat</a></h2></div>\n",
    "<div style=\"text-align: left\"> <h2><b>Paytm:-</b> mohit.mehlawat@paytm</h2></div>"
   ]
  },
  {
   "cell_type": "code",
   "execution_count": null,
   "metadata": {},
   "outputs": [],
   "source": []
  }
 ],
 "metadata": {
  "kernelspec": {
   "display_name": "Python 3",
   "language": "python",
   "name": "python3"
  },
  "language_info": {
   "codemirror_mode": {
    "name": "ipython",
    "version": 3
   },
   "file_extension": ".py",
   "mimetype": "text/x-python",
   "name": "python",
   "nbconvert_exporter": "python",
   "pygments_lexer": "ipython3",
   "version": "3.8.5"
  }
 },
 "nbformat": 4,
 "nbformat_minor": 4
}
