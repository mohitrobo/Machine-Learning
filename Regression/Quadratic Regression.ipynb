{
 "cells": [
  {
   "cell_type": "markdown",
   "metadata": {},
   "source": [
    "<div style=\"text-align: right\"> <h2><b>Youtube:-</b> <a href=\"https://www.youtube.com/@mohit.mehlawat\">https://www.youtube.com/@mohit.mehlawat</a></h2></div>"
   ]
  },
  {
   "cell_type": "markdown",
   "metadata": {},
   "source": [
    "# Quadratic Regression Model (y=A+Bx+Cx^2)"
   ]
  },
  {
   "cell_type": "code",
   "execution_count": 1,
   "metadata": {},
   "outputs": [],
   "source": [
    "#Import the libraries\n",
    "import numpy as np\n",
    "import matplotlib.pyplot as plt\n",
    "from sympy import Symbol, latex"
   ]
  },
  {
   "cell_type": "markdown",
   "metadata": {},
   "source": [
    "<hr style=\"border:2px solid black\">"
   ]
  },
  {
   "cell_type": "code",
   "execution_count": 20,
   "metadata": {},
   "outputs": [],
   "source": [
    "#Function call to return the Quadratic regression equation\n",
    "def quadratic_equation(A,B,C):\n",
    "    return A+B*x+C*x**2"
   ]
  },
  {
   "cell_type": "markdown",
   "metadata": {},
   "source": [
    "<hr style=\"border:2px solid black\">"
   ]
  },
  {
   "cell_type": "markdown",
   "metadata": {},
   "source": [
    "<hr style=\"border:2px solid blue\">"
   ]
  },
  {
   "cell_type": "code",
   "execution_count": 26,
   "metadata": {},
   "outputs": [
    {
     "name": "stdout",
     "output_type": "stream",
     "text": [
      "Enter the x(comma-separated values) values: 83,71,64,69,69,64,68,59,81,91\n",
      "Enter the y(comma-separated values) values: 183,168,171,178,176,172,165,158,183,182\n",
      "Yep those are the values!\n"
     ]
    }
   ],
   "source": [
    "#The code to get the user input for x-values and y-values\n",
    "while True:\n",
    "    try:\n",
    "        user_input_x = input('Enter the x(comma-separated values) values: ')\n",
    "        user_input_y = input('Enter the y(comma-separated values) values: ')\n",
    "        x_coordinates = np.array([int(item) for item in user_input_x.split(',')])\n",
    "        y_coordinates = np.array([int(item) for item in user_input_y.split(',')])\n",
    "        if len(x_coordinates) == len(y_coordinates):\n",
    "            pass\n",
    "        else:\n",
    "            print(\"The number of x values and y values do not match\")\n",
    "            continue #it again goes to the top of the code, i.e try\n",
    "    except:\n",
    "        print(\"Looks like you did not enter an integer!\")\n",
    "        continue #it again goes to the top of the code, i.e try\n",
    "    else:\n",
    "        print(\"Yep those are the values!\")\n",
    "        break"
   ]
  },
  {
   "cell_type": "markdown",
   "metadata": {},
   "source": [
    "<hr style=\"border:2px solid blue\">"
   ]
  },
  {
   "cell_type": "markdown",
   "metadata": {},
   "source": [
    "<hr style=\"border:2px solid green\">"
   ]
  },
  {
   "cell_type": "code",
   "execution_count": 27,
   "metadata": {},
   "outputs": [],
   "source": [
    "#length of dataset\n",
    "n=len(x_coordinates)\n",
    "#Find the mean of x\n",
    "m_x=np.mean(x_coordinates)\n",
    "#Find the mean of y\n",
    "m_y=np.mean(y_coordinates)\n",
    "#Find the mean of x^2\n",
    "m_xx=np.mean(pow(x_coordinates,2))\n",
    "\n",
    "################################################\n",
    "#Find the summation of x^2\n",
    "sum_x2=sum(pow(x_coordinates,2))\n",
    "#Find the summation of x*y\n",
    "sum_xy=sum(x_coordinates*y_coordinates)\n",
    "#Find the summation of x*x*y\n",
    "sum_x2y=sum(pow(x_coordinates,2)*y_coordinates)\n",
    "#Find the summation of x^3\n",
    "sum_x3=sum(pow(x_coordinates,3))\n",
    "#Find the summation of x^4\n",
    "sum_x4=sum(pow(x_coordinates,4))"
   ]
  },
  {
   "cell_type": "markdown",
   "metadata": {},
   "source": [
    "<hr style=\"border:2px solid green\">"
   ]
  },
  {
   "cell_type": "markdown",
   "metadata": {},
   "source": [
    "<hr style=\"border:2px solid red\">"
   ]
  },
  {
   "cell_type": "code",
   "execution_count": 28,
   "metadata": {},
   "outputs": [],
   "source": [
    "#Find the terms for the coefficients\n",
    "S_xx=sum_x2-n*pow(m_x,2)\n",
    "S_xy=sum_xy-n*m_x*m_y\n",
    "S_xx2=sum_x3-n*m_x*m_xx\n",
    "S_x2x2=sum_x4-n*pow(m_xx,2)\n",
    "S_x2y=sum_x2y-n*m_xx*m_y\n",
    "\n",
    "#################################################################\n",
    "#Find the coefficients\n",
    "B=np.divide(S_xy*S_x2x2-S_x2y*S_xx2,S_xx*S_x2x2-S_xx2*S_xx2)\n",
    "C=np.divide(S_x2y*S_xx-S_xy*S_xx2,S_xx*S_x2x2-S_xx2*S_xx2)\n",
    "A=m_y-B*m_x-C*m_xx"
   ]
  },
  {
   "cell_type": "markdown",
   "metadata": {},
   "source": [
    "<hr style=\"border:2px solid red\">"
   ]
  },
  {
   "cell_type": "code",
   "execution_count": 29,
   "metadata": {},
   "outputs": [
    {
     "data": {
      "image/png": "[encoded data removed]",
      "text/plain": [
       "<Figure size 432x288 with 1 Axes>"
      ]
     },
     "metadata": {
      "needs_background": "light"
     },
     "output_type": "display_data"
    }
   ],
   "source": [
    "x,y=Symbol('x'),Symbol('y')\n",
    "#call the function to get the equation\n",
    "equation=quadratic_equation(round(A,3),round(B,3),round(C,3))\n",
    "#equation\n",
    "#Retrive the equation\n",
    "latex_code = latex(equation)\n",
    "\n",
    "plt.text(0.5, 0.5, f'$y={latex_code}$', size=30)\n",
    "plt.axis('off')\n",
    "plt.show()"
   ]
  },
  {
   "cell_type": "markdown",
   "metadata": {},
   "source": [
    "<hr style=\"border:2px solid grey\">\n",
    "<hr style=\"border:2px solid grey\">"
   ]
  },
  {
   "cell_type": "markdown",
   "metadata": {},
   "source": [
    "<div style=\"text-align: left\"> <h1><b>If you liked the content, Kindly Support: </b></h1></div>\n",
    "<div style=\"text-align: left\"> <h2><b>Paypal:-</b> <a href=\"https://paypal.me/mohitmehlawat\">https://paypal.me/mohitmehlawat</a></h2></div>\n",
    "<div style=\"text-align: left\"> <h2><b>Paytm:-</b> mohit.mehlawat@paytm</h2></div>"
   ]
  },
  {
   "cell_type": "code",
   "execution_count": null,
   "metadata": {},
   "outputs": [],
   "source": []
  }
 ],
 "metadata": {
  "kernelspec": {
   "display_name": "Python 3",
   "language": "python",
   "name": "python3"
  },
  "language_info": {
   "codemirror_mode": {
    "name": "ipython",
    "version": 3
   },
   "file_extension": ".py",
   "mimetype": "text/x-python",
   "name": "python",
   "nbconvert_exporter": "python",
   "pygments_lexer": "ipython3",
   "version": "3.8.5"
  }
 },
 "nbformat": 4,
 "nbformat_minor": 4
}
